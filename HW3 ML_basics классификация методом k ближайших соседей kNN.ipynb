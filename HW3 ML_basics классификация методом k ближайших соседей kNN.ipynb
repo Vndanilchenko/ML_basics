{
 "cells": [
  {
   "cell_type": "markdown",
   "metadata": {},
   "source": [
    "# ДОМАШНЯЯ РАБОТА 3"
   ]
  },
  {
   "cell_type": "markdown",
   "metadata": {},
   "source": [
    "МЕТОД k БЛИЖАЙШИХ СОСЕДЕЙ(KNN). ВЫБОР ЧИСЛА СОСЕДЕЙ. КЛАССИФИКАЦИЯ"
   ]
  },
  {
   "cell_type": "markdown",
   "metadata": {},
   "source": [
    "ДАНИЛЬЧЕНКО ВАДИМ"
   ]
  },
  {
   "cell_type": "markdown",
   "metadata": {},
   "source": [
    "В этом задании вам нужно подобрать оптимальное значение k для алгоритма kNN. Будем использовать набор данных Wine, где требуется предсказать сорт винограда, из которого изготовлено вино, используя результаты химических анализов.\n",
    "1. Загрузите выборку Wine по адресу https://archive.ics.uci.edu/ml/machine-learning-databases/wine/wine.data (файл также приложен к этому заданию)\n",
    "2. Извлеките из данных признаки и классы. Класс записан в первом столбце (три варианта), признаки — в столбцах со второго по последний. Более подробно о сути признаков можно прочитать по адресу https://archive.ics.uci.edu/ml/datasets/Wine (см. также файл wine.names, приложенный к заданию)\n",
    "3. Оценку качества необходимо провести методом кросс-валидации по 5 блокам (5-fold). Создайте генератор разбиений, который перемешивает выборку перед формированием блоков (shuffle=True). Для воспроизводимости результата, создавайте генератор KFold с фиксированным параметром random_state=42. В качестве меры качества используйте долю верных ответов (accuracy).\n",
    "4. Найдите точность классификации на кросс-валидации для метода k ближайших соседей (sklearn.neighbors.KNeighborsClassifier), при k от 1 до 50. При каком k получилось оптимальное качество? Чему оно равно (число в интервале от 0 до 1)? Данные результаты и будут ответами на вопросы 1 и 2.\n",
    "5. Произведите масштабирование признаков с помощью функции sklearn.preprocessing.scale. Снова найдите оптимальное k на кросс-валидации.\n",
    "6. Какое значение k получилось оптимальным после приведения признаков к одному масштабу? Приведите ответы на вопросы 3 и 4. Помогло ли масштабирование признаков?"
   ]
  },
  {
   "cell_type": "code",
   "execution_count": 231,
   "metadata": {},
   "outputs": [
    {
     "data": {
      "text/html": [
       "<div>\n",
       "<style scoped>\n",
       "    .dataframe tbody tr th:only-of-type {\n",
       "        vertical-align: middle;\n",
       "    }\n",
       "\n",
       "    .dataframe tbody tr th {\n",
       "        vertical-align: top;\n",
       "    }\n",
       "\n",
       "    .dataframe thead th {\n",
       "        text-align: right;\n",
       "    }\n",
       "</style>\n",
       "<table border=\"1\" class=\"dataframe\">\n",
       "  <thead>\n",
       "    <tr style=\"text-align: right;\">\n",
       "      <th></th>\n",
       "      <th>0</th>\n",
       "      <th>1</th>\n",
       "      <th>2</th>\n",
       "      <th>3</th>\n",
       "      <th>4</th>\n",
       "      <th>5</th>\n",
       "      <th>6</th>\n",
       "      <th>7</th>\n",
       "      <th>8</th>\n",
       "      <th>9</th>\n",
       "      <th>10</th>\n",
       "      <th>11</th>\n",
       "      <th>12</th>\n",
       "      <th>13</th>\n",
       "    </tr>\n",
       "  </thead>\n",
       "  <tbody>\n",
       "    <tr>\n",
       "      <th>0</th>\n",
       "      <td>1</td>\n",
       "      <td>14.23</td>\n",
       "      <td>1.71</td>\n",
       "      <td>2.43</td>\n",
       "      <td>15.6</td>\n",
       "      <td>127</td>\n",
       "      <td>2.80</td>\n",
       "      <td>3.06</td>\n",
       "      <td>0.28</td>\n",
       "      <td>2.29</td>\n",
       "      <td>5.64</td>\n",
       "      <td>1.04</td>\n",
       "      <td>3.92</td>\n",
       "      <td>1065</td>\n",
       "    </tr>\n",
       "    <tr>\n",
       "      <th>1</th>\n",
       "      <td>1</td>\n",
       "      <td>13.20</td>\n",
       "      <td>1.78</td>\n",
       "      <td>2.14</td>\n",
       "      <td>11.2</td>\n",
       "      <td>100</td>\n",
       "      <td>2.65</td>\n",
       "      <td>2.76</td>\n",
       "      <td>0.26</td>\n",
       "      <td>1.28</td>\n",
       "      <td>4.38</td>\n",
       "      <td>1.05</td>\n",
       "      <td>3.40</td>\n",
       "      <td>1050</td>\n",
       "    </tr>\n",
       "    <tr>\n",
       "      <th>2</th>\n",
       "      <td>1</td>\n",
       "      <td>13.16</td>\n",
       "      <td>2.36</td>\n",
       "      <td>2.67</td>\n",
       "      <td>18.6</td>\n",
       "      <td>101</td>\n",
       "      <td>2.80</td>\n",
       "      <td>3.24</td>\n",
       "      <td>0.30</td>\n",
       "      <td>2.81</td>\n",
       "      <td>5.68</td>\n",
       "      <td>1.03</td>\n",
       "      <td>3.17</td>\n",
       "      <td>1185</td>\n",
       "    </tr>\n",
       "    <tr>\n",
       "      <th>3</th>\n",
       "      <td>1</td>\n",
       "      <td>14.37</td>\n",
       "      <td>1.95</td>\n",
       "      <td>2.50</td>\n",
       "      <td>16.8</td>\n",
       "      <td>113</td>\n",
       "      <td>3.85</td>\n",
       "      <td>3.49</td>\n",
       "      <td>0.24</td>\n",
       "      <td>2.18</td>\n",
       "      <td>7.80</td>\n",
       "      <td>0.86</td>\n",
       "      <td>3.45</td>\n",
       "      <td>1480</td>\n",
       "    </tr>\n",
       "    <tr>\n",
       "      <th>4</th>\n",
       "      <td>1</td>\n",
       "      <td>13.24</td>\n",
       "      <td>2.59</td>\n",
       "      <td>2.87</td>\n",
       "      <td>21.0</td>\n",
       "      <td>118</td>\n",
       "      <td>2.80</td>\n",
       "      <td>2.69</td>\n",
       "      <td>0.39</td>\n",
       "      <td>1.82</td>\n",
       "      <td>4.32</td>\n",
       "      <td>1.04</td>\n",
       "      <td>2.93</td>\n",
       "      <td>735</td>\n",
       "    </tr>\n",
       "  </tbody>\n",
       "</table>\n",
       "</div>"
      ],
      "text/plain": [
       "   0      1     2     3     4    5     6     7     8     9     10    11    12  \\\n",
       "0   1  14.23  1.71  2.43  15.6  127  2.80  3.06  0.28  2.29  5.64  1.04  3.92   \n",
       "1   1  13.20  1.78  2.14  11.2  100  2.65  2.76  0.26  1.28  4.38  1.05  3.40   \n",
       "2   1  13.16  2.36  2.67  18.6  101  2.80  3.24  0.30  2.81  5.68  1.03  3.17   \n",
       "3   1  14.37  1.95  2.50  16.8  113  3.85  3.49  0.24  2.18  7.80  0.86  3.45   \n",
       "4   1  13.24  2.59  2.87  21.0  118  2.80  2.69  0.39  1.82  4.32  1.04  2.93   \n",
       "\n",
       "     13  \n",
       "0  1065  \n",
       "1  1050  \n",
       "2  1185  \n",
       "3  1480  \n",
       "4   735  "
      ]
     },
     "execution_count": 231,
     "metadata": {},
     "output_type": "execute_result"
    }
   ],
   "source": [
    "#читаю файл с данными\n",
    "import pandas as pd\n",
    "df=pd.read_csv('wine.data', header=None)\n",
    "df.head()"
   ]
  },
  {
   "cell_type": "code",
   "execution_count": 232,
   "metadata": {},
   "outputs": [
    {
     "data": {
      "text/plain": [
       "'при к=1 было достигнуто максимальное качество: 0.73'"
      ]
     },
     "execution_count": 232,
     "metadata": {},
     "output_type": "execute_result"
    }
   ],
   "source": [
    "# класс\n",
    "y=df[0]\n",
    "# признаки\n",
    "x=df.filter(items=df.columns[df.columns>0])\n",
    "import sklearn\n",
    "from sklearn.cross_validation import KFold, cross_val_score\n",
    "#создадим генератор разбиений на тренировочную и тестовую выборки с параметрами:\n",
    "#shuffle-перемешивает, n_folds-количество перемешанных блоков, random_state-генератор случайных чисел \n",
    "kf=KFold(len(y), n_folds=5, shuffle=True, random_state=42)\n",
    "\n",
    "# найду точность классификации по методу ближайших соседей\n",
    "from sklearn.neighbors import KNeighborsClassifier\n",
    "# в классификатор циклом подставим разные значения количества соседей k в диапазоне от 1 до 50, проведем кросс-валидацию\n",
    "# при каждом значении количетва соседей, разбивая на 5 блоков, затем посчитаем среднее значение оценки для каждого k\n",
    "# и выберем лучшую оценку кросс-валидации и при каком k этого достигли\n",
    "cv_score={} # будет хранить результаты оценки кросс-валидации\n",
    "max_k, max_score=0,0 # значение k при лучшем качестве\n",
    "for k in range(1,51):\n",
    "    model=KNeighborsClassifier(n_neighbors=k)\n",
    "    cv_score.setdefault(k,0)\n",
    "    cv_score[k]=cross_val_score(model,x,y,cv=kf,scoring='accuracy').mean()\n",
    "    if max_score<cv_score[k]:\n",
    "        max_score=cv_score[k]\n",
    "        max_k=k\n",
    "max_score=round(max_score,2)\n",
    "#print(round(max(cv_score.values()),2)==max_score) #проверка максимального значения\n",
    "f'при к={max_k} было достигнуто максимальное качество: {max_score}'"
   ]
  },
  {
   "cell_type": "code",
   "execution_count": 233,
   "metadata": {},
   "outputs": [
    {
     "data": {
      "text/plain": [
       "[<matplotlib.lines.Line2D at 0x20a2b805128>]"
      ]
     },
     "execution_count": 233,
     "metadata": {},
     "output_type": "execute_result"
    },
    {
     "data": {
      "image/png": "[encoded data removed]",
      "text/plain": [
       "<Figure size 432x288 with 1 Axes>"
      ]
     },
     "metadata": {
      "needs_background": "light"
     },
     "output_type": "display_data"
    }
   ],
   "source": [
    "# убедимся в этом, посмотрев на график\n",
    "import matplotlib.pyplot as plt\n",
    "plt.plot(cv_score.keys(), cv_score.values())"
   ]
  },
  {
   "cell_type": "code",
   "execution_count": 234,
   "metadata": {},
   "outputs": [
    {
     "data": {
      "text/plain": [
       "'при к=29 было достигнуто максимальное качество: 0.98'"
      ]
     },
     "execution_count": 234,
     "metadata": {},
     "output_type": "execute_result"
    }
   ],
   "source": [
    "#проведем масштабирование и найдем оценку после него\n",
    "X=sklearn.preprocessing.scale(x)\n",
    "# используем старый код\n",
    "cv_score2={} # будет хранить результаты оценки кросс-валидации\n",
    "max_k, max_score=0,0 # значение k при лучшем качестве\n",
    "for k in range(1,51):\n",
    "    model=KNeighborsClassifier(n_neighbors=k)\n",
    "    cv_score2.setdefault(k,0)\n",
    "    cv_score2[k]=cross_val_score(model,X,y,cv=kf,scoring='accuracy').mean()\n",
    "    if max_score<cv_score2[k]:\n",
    "        max_score=cv_score2[k]\n",
    "        max_k=k\n",
    "max_score=round(max_score,2)\n",
    "#print(round(max(cv_score2.values()),2)==max_score) #проверка максимального значения\n",
    "f'при к={max_k} было достигнуто максимальное качество: {max_score}'"
   ]
  },
  {
   "cell_type": "code",
   "execution_count": 235,
   "metadata": {},
   "outputs": [
    {
     "data": {
      "text/plain": [
       "[<matplotlib.lines.Line2D at 0x20a2b7bbc50>]"
      ]
     },
     "execution_count": 235,
     "metadata": {},
     "output_type": "execute_result"
    },
    {
     "data": {
      "image/png": "[encoded data removed]",
      "text/plain": [
       "<Figure size 432x288 with 1 Axes>"
      ]
     },
     "metadata": {
      "needs_background": "light"
     },
     "output_type": "display_data"
    }
   ],
   "source": [
    "# убедимся в этом, посмотрев на график\n",
    "import matplotlib.pyplot as plt\n",
    "plt.plot(cv_score.keys(), cv_score.values())"
   ]
  },
  {
   "cell_type": "code",
   "execution_count": 236,
   "metadata": {},
   "outputs": [
    {
     "data": {
      "text/html": [
       "<script type=\"text/javascript\">window.PlotlyConfig = {MathJaxConfig: 'local'};</script><script type=\"text/javascript\">if (window.MathJax) {MathJax.Hub.Config({SVG: {font: \"STIX-Web\"}});}</script><script>requirejs.config({paths: { 'plotly': ['https://cdn.plot.ly/plotly-latest.min']},});if(!window._Plotly) {require(['plotly'],function(plotly) {window._Plotly=plotly;});}</script>"
      ],
      "text/vnd.plotly.v1+html": [
       "<script type=\"text/javascript\">window.PlotlyConfig = {MathJaxConfig: 'local'};</script><script type=\"text/javascript\">if (window.MathJax) {MathJax.Hub.Config({SVG: {font: \"STIX-Web\"}});}</script><script>requirejs.config({paths: { 'plotly': ['https://cdn.plot.ly/plotly-latest.min']},});if(!window._Plotly) {require(['plotly'],function(plotly) {window._Plotly=plotly;});}</script>"
      ]
     },
     "metadata": {},
     "output_type": "display_data"
    },
    {
     "data": {
      "application/vnd.plotly.v1+json": {
       "config": {
        "linkText": "Export to plot.ly",
        "plotlyServerURL": "https://plot.ly",
        "showLink": false
       },
       "data": [
        {
         "name": "before scaling",
         "type": "scatter",
         "uid": "a267b4ec-a383-4c62-898f-658749d03e5b",
         "x": [
          1,
          2,
          3,
          4,
          5,
          6,
          7,
          8,
          9,
          10,
          11,
          12,
          13,
          14,
          15,
          16,
          17,
          18,
          19,
          20,
          21,
          22,
          23,
          24,
          25,
          26,
          27,
          28,
          29,
          30,
          31,
          32,
          33,
          34,
          35,
          36,
          37,
          38,
          39,
          40,
          41,
          42,
          43,
          44,
          45,
          46,
          47,
          48,
          49,
          50
         ],
         "y": [
          0.7304761904761905,
          0.6625396825396825,
          0.7082539682539682,
          0.6577777777777778,
          0.6746031746031746,
          0.6742857142857144,
          0.68,
          0.6799999999999999,
          0.7023809523809523,
          0.6801587301587302,
          0.7025396825396826,
          0.6966666666666667,
          0.6909523809523809,
          0.6793650793650794,
          0.701904761904762,
          0.6795238095238096,
          0.7015873015873015,
          0.6795238095238095,
          0.6793650793650793,
          0.6909523809523809,
          0.7019047619047619,
          0.6965079365079364,
          0.7020634920634921,
          0.7076190476190476,
          0.7019047619047619,
          0.6965079365079365,
          0.6963492063492064,
          0.7079365079365079,
          0.7134920634920634,
          0.7079365079365079,
          0.690952380952381,
          0.7134920634920634,
          0.7134920634920634,
          0.7246031746031747,
          0.7246031746031747,
          0.7134920634920636,
          0.7134920634920634,
          0.7134920634920634,
          0.7079365079365079,
          0.7077777777777777,
          0.7134920634920634,
          0.7077777777777777,
          0.7077777777777777,
          0.7077777777777777,
          0.7077777777777777,
          0.7077777777777777,
          0.6966666666666667,
          0.7190476190476192,
          0.6966666666666667,
          0.7077777777777777
         ]
        },
        {
         "name": "after scaling",
         "type": "scatter",
         "uid": "4743e24e-3835-4725-ae9c-03a2df9f2840",
         "x": [
          1,
          2,
          3,
          4,
          5,
          6,
          7,
          8,
          9,
          10,
          11,
          12,
          13,
          14,
          15,
          16,
          17,
          18,
          19,
          20,
          21,
          22,
          23,
          24,
          25,
          26,
          27,
          28,
          29,
          30,
          31,
          32,
          33,
          34,
          35,
          36,
          37,
          38,
          39,
          40,
          41,
          42,
          43,
          44,
          45,
          46,
          47,
          48,
          49,
          50
         ],
         "y": [
          0.943968253968254,
          0.9328571428571429,
          0.9550793650793651,
          0.9382539682539683,
          0.9493650793650794,
          0.9495238095238095,
          0.9495238095238095,
          0.9552380952380952,
          0.9607936507936508,
          0.9607936507936508,
          0.9609523809523809,
          0.9552380952380952,
          0.9495238095238093,
          0.9663492063492063,
          0.9720634920634922,
          0.9720634920634922,
          0.9665079365079364,
          0.9665079365079364,
          0.9553968253968254,
          0.9665079365079364,
          0.9609523809523811,
          0.9665079365079364,
          0.9609523809523809,
          0.9552380952380952,
          0.9552380952380952,
          0.9607936507936508,
          0.9552380952380952,
          0.9663492063492063,
          0.9776190476190475,
          0.9607936507936508,
          0.9552380952380952,
          0.9607936507936508,
          0.9663492063492063,
          0.9663492063492063,
          0.9607936507936508,
          0.9607936507936508,
          0.9552380952380952,
          0.9607936507936508,
          0.9607936507936508,
          0.9607936507936508,
          0.9663492063492063,
          0.9607936507936508,
          0.9663492063492063,
          0.9606349206349206,
          0.9663492063492063,
          0.9495238095238095,
          0.9550793650793651,
          0.9495238095238095,
          0.9550793650793651,
          0.9606349206349206
         ]
        }
       ],
       "layout": {
        "title": "Accuracy before scaling and after"
       }
      },
      "text/html": [
       "<div id=\"946fcb9f-fa05-40cb-8521-306d4fe20204\" style=\"height: 525px; width: 100%;\" class=\"plotly-graph-div\"></div><script type=\"text/javascript\">require([\"plotly\"], function(Plotly) { window.PLOTLYENV=window.PLOTLYENV || {};window.PLOTLYENV.BASE_URL=\"https://plot.ly\";Plotly.newPlot(\"946fcb9f-fa05-40cb-8521-306d4fe20204\", [{\"name\": \"before scaling\", \"x\": [1, 2, 3, 4, 5, 6, 7, 8, 9, 10, 11, 12, 13, 14, 15, 16, 17, 18, 19, 20, 21, 22, 23, 24, 25, 26, 27, 28, 29, 30, 31, 32, 33, 34, 35, 36, 37, 38, 39, 40, 41, 42, 43, 44, 45, 46, 47, 48, 49, 50], \"y\": [0.7304761904761905, 0.6625396825396825, 0.7082539682539682, 0.6577777777777778, 0.6746031746031746, 0.6742857142857144, 0.68, 0.6799999999999999, 0.7023809523809523, 0.6801587301587302, 0.7025396825396826, 0.6966666666666667, 0.6909523809523809, 0.6793650793650794, 0.701904761904762, 0.6795238095238096, 0.7015873015873015, 0.6795238095238095, 0.6793650793650793, 0.6909523809523809, 0.7019047619047619, 0.6965079365079364, 0.7020634920634921, 0.7076190476190476, 0.7019047619047619, 0.6965079365079365, 0.6963492063492064, 0.7079365079365079, 0.7134920634920634, 0.7079365079365079, 0.690952380952381, 0.7134920634920634, 0.7134920634920634, 0.7246031746031747, 0.7246031746031747, 0.7134920634920636, 0.7134920634920634, 0.7134920634920634, 0.7079365079365079, 0.7077777777777777, 0.7134920634920634, 0.7077777777777777, 0.7077777777777777, 0.7077777777777777, 0.7077777777777777, 0.7077777777777777, 0.6966666666666667, 0.7190476190476192, 0.6966666666666667, 0.7077777777777777], \"type\": \"scatter\", \"uid\": \"a267b4ec-a383-4c62-898f-658749d03e5b\"}, {\"name\": \"after scaling\", \"x\": [1, 2, 3, 4, 5, 6, 7, 8, 9, 10, 11, 12, 13, 14, 15, 16, 17, 18, 19, 20, 21, 22, 23, 24, 25, 26, 27, 28, 29, 30, 31, 32, 33, 34, 35, 36, 37, 38, 39, 40, 41, 42, 43, 44, 45, 46, 47, 48, 49, 50], \"y\": [0.943968253968254, 0.9328571428571429, 0.9550793650793651, 0.9382539682539683, 0.9493650793650794, 0.9495238095238095, 0.9495238095238095, 0.9552380952380952, 0.9607936507936508, 0.9607936507936508, 0.9609523809523809, 0.9552380952380952, 0.9495238095238093, 0.9663492063492063, 0.9720634920634922, 0.9720634920634922, 0.9665079365079364, 0.9665079365079364, 0.9553968253968254, 0.9665079365079364, 0.9609523809523811, 0.9665079365079364, 0.9609523809523809, 0.9552380952380952, 0.9552380952380952, 0.9607936507936508, 0.9552380952380952, 0.9663492063492063, 0.9776190476190475, 0.9607936507936508, 0.9552380952380952, 0.9607936507936508, 0.9663492063492063, 0.9663492063492063, 0.9607936507936508, 0.9607936507936508, 0.9552380952380952, 0.9607936507936508, 0.9607936507936508, 0.9607936507936508, 0.9663492063492063, 0.9607936507936508, 0.9663492063492063, 0.9606349206349206, 0.9663492063492063, 0.9495238095238095, 0.9550793650793651, 0.9495238095238095, 0.9550793650793651, 0.9606349206349206], \"type\": \"scatter\", \"uid\": \"4743e24e-3835-4725-ae9c-03a2df9f2840\"}], {\"title\": \"Accuracy before scaling and after\"}, {\"showLink\": false, \"linkText\": \"Export to plot.ly\", \"plotlyServerURL\": \"https://plot.ly\"})});</script><script type=\"text/javascript\">window.addEventListener(\"resize\", function(){window._Plotly.Plots.resize(document.getElementById(\"946fcb9f-fa05-40cb-8521-306d4fe20204\"));});</script>"
      ],
      "text/vnd.plotly.v1+html": [
       "<div id=\"946fcb9f-fa05-40cb-8521-306d4fe20204\" style=\"height: 525px; width: 100%;\" class=\"plotly-graph-div\"></div><script type=\"text/javascript\">require([\"plotly\"], function(Plotly) { window.PLOTLYENV=window.PLOTLYENV || {};window.PLOTLYENV.BASE_URL=\"https://plot.ly\";Plotly.newPlot(\"946fcb9f-fa05-40cb-8521-306d4fe20204\", [{\"name\": \"before scaling\", \"x\": [1, 2, 3, 4, 5, 6, 7, 8, 9, 10, 11, 12, 13, 14, 15, 16, 17, 18, 19, 20, 21, 22, 23, 24, 25, 26, 27, 28, 29, 30, 31, 32, 33, 34, 35, 36, 37, 38, 39, 40, 41, 42, 43, 44, 45, 46, 47, 48, 49, 50], \"y\": [0.7304761904761905, 0.6625396825396825, 0.7082539682539682, 0.6577777777777778, 0.6746031746031746, 0.6742857142857144, 0.68, 0.6799999999999999, 0.7023809523809523, 0.6801587301587302, 0.7025396825396826, 0.6966666666666667, 0.6909523809523809, 0.6793650793650794, 0.701904761904762, 0.6795238095238096, 0.7015873015873015, 0.6795238095238095, 0.6793650793650793, 0.6909523809523809, 0.7019047619047619, 0.6965079365079364, 0.7020634920634921, 0.7076190476190476, 0.7019047619047619, 0.6965079365079365, 0.6963492063492064, 0.7079365079365079, 0.7134920634920634, 0.7079365079365079, 0.690952380952381, 0.7134920634920634, 0.7134920634920634, 0.7246031746031747, 0.7246031746031747, 0.7134920634920636, 0.7134920634920634, 0.7134920634920634, 0.7079365079365079, 0.7077777777777777, 0.7134920634920634, 0.7077777777777777, 0.7077777777777777, 0.7077777777777777, 0.7077777777777777, 0.7077777777777777, 0.6966666666666667, 0.7190476190476192, 0.6966666666666667, 0.7077777777777777], \"type\": \"scatter\", \"uid\": \"a267b4ec-a383-4c62-898f-658749d03e5b\"}, {\"name\": \"after scaling\", \"x\": [1, 2, 3, 4, 5, 6, 7, 8, 9, 10, 11, 12, 13, 14, 15, 16, 17, 18, 19, 20, 21, 22, 23, 24, 25, 26, 27, 28, 29, 30, 31, 32, 33, 34, 35, 36, 37, 38, 39, 40, 41, 42, 43, 44, 45, 46, 47, 48, 49, 50], \"y\": [0.943968253968254, 0.9328571428571429, 0.9550793650793651, 0.9382539682539683, 0.9493650793650794, 0.9495238095238095, 0.9495238095238095, 0.9552380952380952, 0.9607936507936508, 0.9607936507936508, 0.9609523809523809, 0.9552380952380952, 0.9495238095238093, 0.9663492063492063, 0.9720634920634922, 0.9720634920634922, 0.9665079365079364, 0.9665079365079364, 0.9553968253968254, 0.9665079365079364, 0.9609523809523811, 0.9665079365079364, 0.9609523809523809, 0.9552380952380952, 0.9552380952380952, 0.9607936507936508, 0.9552380952380952, 0.9663492063492063, 0.9776190476190475, 0.9607936507936508, 0.9552380952380952, 0.9607936507936508, 0.9663492063492063, 0.9663492063492063, 0.9607936507936508, 0.9607936507936508, 0.9552380952380952, 0.9607936507936508, 0.9607936507936508, 0.9607936507936508, 0.9663492063492063, 0.9607936507936508, 0.9663492063492063, 0.9606349206349206, 0.9663492063492063, 0.9495238095238095, 0.9550793650793651, 0.9495238095238095, 0.9550793650793651, 0.9606349206349206], \"type\": \"scatter\", \"uid\": \"4743e24e-3835-4725-ae9c-03a2df9f2840\"}], {\"title\": \"Accuracy before scaling and after\"}, {\"showLink\": false, \"linkText\": \"Export to plot.ly\", \"plotlyServerURL\": \"https://plot.ly\"})});</script><script type=\"text/javascript\">window.addEventListener(\"resize\", function(){window._Plotly.Plots.resize(document.getElementById(\"946fcb9f-fa05-40cb-8521-306d4fe20204\"));});</script>"
      ]
     },
     "metadata": {},
     "output_type": "display_data"
    }
   ],
   "source": [
    "# посмотрим на одном графике результат оценки для двух вариантов - до масштабирования и после\n",
    "from plotly.offline import init_notebook_mode, iplot\n",
    "import plotly\n",
    "import plotly.graph_objs as go\n",
    "init_notebook_mode(connected=True)\n",
    "\n",
    "trace0 = go.Scatter(\n",
    "    x=list(cv_score.keys()), \n",
    "    y=list(cv_score.values()),\n",
    "    name='before scaling'\n",
    ")\n",
    "\n",
    "trace1 = go.Scatter(\n",
    "    x=list(cv_score2.keys()), \n",
    "    y=list(cv_score2.values()),\n",
    "    name='after scaling'\n",
    ")\n",
    "\n",
    "data = [trace0, trace1]\n",
    "layout = {'title': 'Accuracy before scaling and after'}\n",
    "\n",
    "fig = go.Figure(data=data, layout=layout)\n",
    "\n",
    "iplot(fig, show_link=False)"
   ]
  },
  {
   "cell_type": "markdown",
   "metadata": {},
   "source": [
    "как мы можем заметить точность классификации после масштабирования стала выше, но максимальная достигается при к=29 (видно при наведении на график)"
   ]
  },
  {
   "cell_type": "code",
   "execution_count": 237,
   "metadata": {},
   "outputs": [
    {
     "data": {
      "text/plain": [
       "'1: 58 , 2: 129 , 3: 177'"
      ]
     },
     "execution_count": 237,
     "metadata": {},
     "output_type": "execute_result"
    }
   ],
   "source": [
    "# найдем по одной строке для каждого класса для последующей проверки классификации\n",
    "f'1: {df[df[0]==1].tail(1).index[0]} , 2: {df[df[0]==2].tail(1).index[0]} , 3: {df[df[0]==3].tail(1).index[0]}'"
   ]
  },
  {
   "cell_type": "code",
   "execution_count": 238,
   "metadata": {},
   "outputs": [
    {
     "name": "stdout",
     "output_type": "stream",
     "text": [
      "предсказанный класс для 1: 1, для 2: 2, для 3: 3\n"
     ]
    },
    {
     "data": {
      "text/plain": [
       "'доля ошибок в предсказанных значениях: 0.02'"
      ]
     },
     "execution_count": 238,
     "metadata": {},
     "output_type": "execute_result"
    }
   ],
   "source": [
    "# проведем проверку соответствия предсказанного класса заданному значению\n",
    "import numpy as np\n",
    "model=KNeighborsClassifier(n_neighbors=29)\n",
    "model.fit(X,y)\n",
    "\n",
    "X1_test=np.array(X[58]).reshape(1, -1)\n",
    "X2_test=np.array(X[129]).reshape(1, -1)\n",
    "X3_test=np.array(X[177]).reshape(1, -1)\n",
    "#X_test\n",
    "#df.loc[169]\n",
    "print('предсказанный класс для 1: {}, для 2: {}, для 3: {}'.\\\n",
    "      format(model.predict(X1_test)[0],model.predict(X2_test)[0],model.predict(X3_test)[0]))\n",
    "\n",
    "# посчитаем долю ошибок в предсказании принадлежности классу по всей выборке\n",
    "err_list=[]\n",
    "for i in range(0,len(df)):\n",
    "    if model.predict(np.array(X[i]).reshape(1, -1))[0]!=df[0][i]:\n",
    "        err_list.append(i)\n",
    "\n",
    "f'доля ошибок в предсказанных значениях: {round(len(err_list)/len(df),2)}'"
   ]
  }
 ],
 "metadata": {
  "kernelspec": {
   "display_name": "Python 3",
   "language": "python",
   "name": "python3"
  },
  "language_info": {
   "codemirror_mode": {
    "name": "ipython",
    "version": 3
   },
   "file_extension": ".py",
   "mimetype": "text/x-python",
   "name": "python",
   "nbconvert_exporter": "python",
   "pygments_lexer": "ipython3",
   "version": "3.7.0"
  }
 },
 "nbformat": 4,
 "nbformat_minor": 2
}
